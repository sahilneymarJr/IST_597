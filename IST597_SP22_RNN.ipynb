{
 "cells": [
  {
   "cell_type": "markdown",
   "metadata": {
    "id": "view-in-github"
   },
   "source": [
    "<a href=\"https://colab.research.google.com/github/AnkurMali/IST597_SP21/blob/main/IST597_SP21_RNN.ipynb\" target=\"_parent\"><img src=\"https://colab.research.google.com/assets/colab-badge.svg\" alt=\"Open In Colab\"/></a>"
   ]
  },
  {
   "cell_type": "markdown",
   "metadata": {
    "id": "-C4rdQxKP7UT"
   },
   "source": [
    "# IST597 :Recurrent Neural Networks (RNNs) for sequence classification\n",
    "Thanks to @googleAI, @Keras, @madlalina @nvidia_research \n",
    "----\n",
    "\n",
    "We will be  building a RNN for sentiment analysis on IMDB movie reviews ( [stanford_imdb](https://https://ai.stanford.edu/~amaas/data/sentiment/)). \n"
   ]
  },
  {
   "cell_type": "code",
   "execution_count": 1,
   "metadata": {
    "id": "rvcyRuYbP7UV"
   },
   "outputs": [],
   "source": [
    "import tensorflow as tf\n",
    "import pandas as pd\n",
    "import time\n",
    "import pickle\n",
    "import matplotlib.pyplot as plt\n",
    "%matplotlib inline\n",
    "tf.random.set_seed(1234)"
   ]
  },
  {
   "cell_type": "code",
   "execution_count": 2,
   "metadata": {
    "id": "ur6a2Sw5WJjM"
   },
   "outputs": [],
   "source": [
    "import sys\n",
    "# sys.path.insert(1,'/data/')\n",
    "from data_utils import parse_imdb_sequence"
   ]
  },
  {
   "cell_type": "code",
   "execution_count": 3,
   "metadata": {
    "colab": {
     "base_uri": "https://localhost:8080/",
     "height": 281
    },
    "id": "CMNILJ0PP7UW",
    "outputId": "b0b799be-9ec1-4b51-958f-545fd292ec9b"
   },
   "outputs": [
    {
     "data": {
      "text/plain": "<Figure size 432x288 with 1 Axes>",
      "image/png": "[encoded data removed]"
     },
     "metadata": {
      "needs_background": "light"
     },
     "output_type": "display_data"
    }
   ],
   "source": [
    "length_reviews = pickle.load(open('length_reviews.pkl', 'rb'))\n",
    "pd.DataFrame(length_reviews\n",
    "             , columns=['Length reviews']).hist(bins=100, color='blue')\n",
    "plt.grid(False);"
   ]
  },
  {
   "cell_type": "code",
   "execution_count": 4,
   "metadata": {
    "id": "ijVfbU9jP7UY"
   },
   "outputs": [
    {
     "name": "stdout",
     "output_type": "stream",
     "text": [
      "20000\n",
      "5000\n",
      "25000\n"
     ]
    }
   ],
   "source": [
    "\n",
    "# train_dataset = tf.data.TFRecordDataset('train.tfrecords')\n",
    "# train_dataset = train_dataset.map(parse_imdb_sequence).shuffle(buffer_size=10000)\n",
    "# train_dataset = train_dataset.padded_batch(512, padded_shapes=([None],[],[]))\n",
    "# test_dataset = tf.data.TFRecordDataset('test.tfrecords')\n",
    "# test_dataset = test_dataset.map(parse_imdb_sequence).shuffle(buffer_size=10000)\n",
    "# test_dataset = test_dataset.padded_batch(512, padded_shapes=([None],[],[]))\n",
    "\n",
    "batch = 32\n",
    "total_dataset = tf.data.TFRecordDataset('train.tfrecords')\n",
    "total_data_size = len(list(total_dataset))\n",
    "\n",
    "train_data_size = int(total_data_size*0.8)\n",
    "\n",
    "train_dataset = total_dataset.take(train_data_size)\n",
    "print(len(list(train_dataset)))\n",
    "train_dataset = train_dataset.map(parse_imdb_sequence).shuffle(buffer_size=10000, seed=5887)\n",
    "train_dataset = train_dataset.padded_batch(batch_size=batch, padded_shapes=([None],[],[]))\n",
    "\n",
    "val_dataset = total_dataset.skip(train_data_size)\n",
    "print(len(list(val_dataset)))\n",
    "val_dataset = val_dataset.map(parse_imdb_sequence).shuffle(buffer_size=10000, seed=5887)\n",
    "val_dataset = val_dataset.padded_batch(batch_size=batch, padded_shapes=([None],[],[]))\n",
    "\n",
    "test_dataset = tf.data.TFRecordDataset('test.tfrecords')\n",
    "print(len(list(test_dataset)))\n",
    "test_dataset = test_dataset.map(parse_imdb_sequence).shuffle(buffer_size=10000, seed=5887)\n",
    "test_dataset = test_dataset.padded_batch(batch_size=batch, padded_shapes=([None],[],[]))\n"
   ]
  },
  {
   "cell_type": "markdown",
   "source": [],
   "metadata": {
    "collapsed": false
   }
  },
  {
   "cell_type": "code",
   "execution_count": null,
   "outputs": [],
   "source": [],
   "metadata": {
    "collapsed": false,
    "pycharm": {
     "name": "#%%\n"
    }
   }
  },
  {
   "cell_type": "code",
   "execution_count": 6,
   "metadata": {
    "id": "-0boPqdDP7UY"
   },
   "outputs": [],
   "source": [
    "# Read the word vocabulary\n",
    "word2idx = pickle.load(open('word2idx.pkl', 'rb'))"
   ]
  },
  {
   "cell_type": "markdown",
   "metadata": {
    "id": "7jVOSepgP7UY"
   },
   "source": [
    "## RNN model for sequence classification, compatible with Eager API \n",
    "----\n",
    "In the cell below, you can find the class that I have created for the RNN model. The API is very similar with one I created in the previous tutorial, except that now we track the accuracy of the model instead of the loss.\n",
    "\n",
    "The idea of the network is very simple. We simply take each word in the review, select its corresponding word embedding (initialized randomly in the beginning), and pass it through the RNN cell. We then take the output of the RNN cell at the end of the sequence and pass it through a dense layer (with ReLU activation) to obtain the final predictions. \n",
    "\n",
    "Like usually, the network inherits from tf.keras.Model in order to keep track of all variables and save/restore them easily.\n",
    "\n",
    "![img](tutorials_graphics/rnn_imdb.png)"
   ]
  },
  {
   "cell_type": "code",
   "execution_count": 7,
   "metadata": {
    "id": "iUoWg4BSP7UY"
   },
   "outputs": [],
   "source": [
    "class RNNModel(tf.keras.Model):\n",
    "    def __init__(self, embedding_size=100, cell_size=64, dense_size=128, \n",
    "                 num_classes=2, vocabulary_size=None, rnn_cell='lstm',\n",
    "                 device='cpu:0', checkpoint_directory=None):\n",
    "        ''' Define the parameterized layers used during forward-pass, the device\n",
    "            where you would like to run the computation on and the checkpoint\n",
    "            directory. Additionaly, you can also modify the default size of the \n",
    "            network.\n",
    "            \n",
    "            Args:\n",
    "                embedding_size: the size of the word embedding.\n",
    "                cell_size: RNN cell size.\n",
    "                dense_size: the size of the dense layer.\n",
    "                num_classes: the number of labels in the network.\n",
    "                vocabulary_size: the size of the word vocabulary.\n",
    "                rnn_cell: string, either 'lstm' or 'ugrnn'.\n",
    "                device: string, 'cpu:n' or 'gpu:n' (n can vary). Default, 'cpu:0'.\n",
    "                checkpoint_directory: the directory where you would like to save or \n",
    "                                      restore a model.\n",
    "        '''\n",
    "        super(RNNModel, self).__init__()\n",
    "        \n",
    "        # Weights initializer function\n",
    "        w_initializer = tf.compat.v1.keras.initializers.glorot_uniform()\n",
    "    \n",
    "        # Biases initializer function\n",
    "        b_initializer = tf.zeros_initializer()\n",
    "        \n",
    "        # Initialize weights for word embeddings \n",
    "        self.embeddings = tf.keras.layers.Embedding(vocabulary_size, embedding_size, \n",
    "                                                    embeddings_initializer=w_initializer)\n",
    "        \n",
    "        # Dense layer initialization\n",
    "        self.dense_layer = tf.keras.layers.Dense(dense_size, activation=tf.nn.relu, \n",
    "                                                 kernel_initializer=w_initializer, \n",
    "                                                 bias_initializer=b_initializer)\n",
    "        \n",
    "        # Predictions layer initialization\n",
    "        self.pred_layer = tf.keras.layers.Dense(num_classes, activation=None, \n",
    "                                                kernel_initializer=w_initializer, \n",
    "                                                bias_initializer=b_initializer)\n",
    "        \n",
    "        # Basic LSTM cell\n",
    "        if rnn_cell=='lstm':\n",
    "            self.rnn_cell = tf.compat.v1.nn.rnn_cell.BasicLSTMCell(cell_size)\n",
    "            # self.rnn_cell = tf.compat.v1.keras.layers.CuDNNLSTM(cell_size)\n",
    "            # self.rnn_cell = tf.compat.cudnn_rnn.CudnnLSTM(cell_size)\n",
    "            # self.rnn_cell = tf.compat.v1.keras.layers.CuDNNLSTM(cell_size)\n",
    "        # Else RNN cell\n",
    "        else:\n",
    "            self.rnn_cell = tf.compat.v1.nn.rnn_cell.BasicRNNCell(cell_size)\n",
    "            \n",
    "        # Define the device \n",
    "        self.device = device\n",
    "        \n",
    "        # Define the checkpoint directory\n",
    "        self.checkpoint_directory = checkpoint_directory\n",
    "        \n",
    "    def predict(self, X, seq_length, is_training):\n",
    "        '''\n",
    "        Predicts the probability of each class, based on the input sample.\n",
    "\n",
    "        Args:\n",
    "            X: 2D tensor of shape (batch_size, time_steps).\n",
    "            seq_length: the length of each sequence in the batch.\n",
    "            is_training: Boolean. Either the network is predicting in\n",
    "                         training mode or not.\n",
    "        '''\n",
    "        \n",
    "        # Get the number of samples within a batch\n",
    "        num_samples = tf.shape(X)[0]\n",
    "\n",
    "        # Initialize LSTM cell state with zeros\n",
    "        state = self.rnn_cell.zero_state(num_samples, dtype=tf.float32)\n",
    "        \n",
    "        # Get the embedding of each word in the sequence\n",
    "        embedded_words = self.embeddings(X)\n",
    "        \n",
    "        # Unstack the embeddings\n",
    "        unstacked_embeddings = tf.unstack(embedded_words, axis=1)\n",
    "        \n",
    "        # Iterate through each timestep and append the predictions\n",
    "        outputs = []\n",
    "        for input_step in unstacked_embeddings:\n",
    "            output, state = self.rnn_cell(input_step, state)\n",
    "            outputs.append(output)\n",
    "            \n",
    "        # Stack outputs to (batch_size, time_steps, cell_size)\n",
    "        outputs = tf.stack(outputs, axis=1)\n",
    "        \n",
    "        # Extract the output of the last time step, of each sample\n",
    "        idxs_last_output = tf.stack([tf.range(num_samples), \n",
    "                                     tf.cast(seq_length-1, tf.int32)], axis=1)\n",
    "        final_output = tf.gather_nd(outputs, idxs_last_output)\n",
    "        \n",
    "        # Add dropout for regularization\n",
    "        #dropped_output = tf.compat.v1.layers.Dropout(final_output, rate=0.3, training=is_training)\n",
    "        \n",
    "        # Pass the last cell state through a dense layer (ReLU activation)\n",
    "        dense = self.dense_layer(final_output)\n",
    "        \n",
    "        # Compute the unnormalized log probabilities\n",
    "        logits = self.pred_layer(dense)\n",
    "        return logits\n",
    "    \n",
    "    def loss_fn(self, X, y, seq_length, is_training):\n",
    "        \"\"\" Defines the loss function used during \n",
    "            training.         \n",
    "        \"\"\"\n",
    "        preds = self.predict(X, seq_length, is_training)\n",
    "        loss = tf.nn.sparse_softmax_cross_entropy_with_logits(labels=y, logits=preds)\n",
    "        return loss\n",
    "    \n",
    "    def grads_fn(self, X, y, seq_length, is_training):\n",
    "        \"\"\" Dynamically computes the gradients of the loss value\n",
    "            with respect to the parameters of the model, in each\n",
    "            forward pass.\n",
    "        \"\"\"\n",
    "        with tf.GradientTape() as tape:\n",
    "            loss = self.loss_fn(X, y, seq_length, is_training)\n",
    "        return tape.gradient(loss, self.variables)\n",
    "    \n",
    "    def restore_model(self):\n",
    "        \"\"\" Function to restore trained model.\n",
    "        \"\"\"\n",
    "        with tf.device(self.device):\n",
    "            # Run the model once to initialize variables\n",
    "            dummy_input = tf.constant(tf.zeros((1,1)))\n",
    "            dummy_length = tf.constant(1, shape=(1,))\n",
    "            dummy_pred = self.predict(dummy_input, dummy_length, False)\n",
    "            # Restore the variables of the model\n",
    "            saver = tf.compat.v1.train.Saver(self.variables)\n",
    "            saver.restore(tf.train.latest_checkpoint\n",
    "                          (self.checkpoint_directory))\n",
    "    \n",
    "    def save_model(self, global_step=0):\n",
    "        \"\"\" Function to save trained model.\n",
    "        \"\"\"\n",
    "        tf.compat.v1.train.Saver(self.variables).save(save_path=self.checkpoint_directory, \n",
    "                                       global_step=global_step)   \n",
    "        \n",
    "    def fit(self, training_data, eval_data, optimizer, num_epochs=500, \n",
    "            early_stopping_rounds=10, verbose=10, train_from_scratch=False):\n",
    "        \"\"\" Function to train the model, using the selected optimizer and\n",
    "            for the desired number of epochs. You can either train from scratch\n",
    "            or load the latest model trained. Early stopping is used in order to\n",
    "            mitigate the risk of overfitting the network.\n",
    "            \n",
    "            Args:\n",
    "                training_data: the data you would like to train the model on.\n",
    "                                Must be in the tf.data.Dataset format.\n",
    "                eval_data: the data you would like to evaluate the model on.\n",
    "                            Must be in the tf.data.Dataset format.\n",
    "                optimizer: the optimizer used during training.\n",
    "                num_epochs: the maximum number of iterations you would like to \n",
    "                            train the model.\n",
    "                early_stopping_rounds: stop training if the accuracy on the eval \n",
    "                                       dataset does not increase after n epochs.\n",
    "                verbose: int. Specify how often to print the loss value of the network.\n",
    "                train_from_scratch: boolean. Whether to initialize variables of the\n",
    "                                    the last trained model or initialize them\n",
    "                                    randomly.\n",
    "        \"\"\" \n",
    "    \n",
    "        if train_from_scratch==False:\n",
    "            self.restore_model()\n",
    "        \n",
    "        # Initialize best_acc. This variable will store the highest accuracy\n",
    "        # on the eval dataset.\n",
    "        best_acc = 0\n",
    "        \n",
    "        # Initialize classes to update the mean accuracy of train and eval\n",
    "        train_acc = tf.keras.metrics.Accuracy('train_acc')\n",
    "        eval_acc = tf.keras.metrics.Accuracy('eval_acc')\n",
    "        test_acc = tf.keras.metrics.Accuracy('test_acc')\n",
    "        # Initialize dictionary to store the accuracy history\n",
    "        self.history = {}\n",
    "        self.history['train_acc'] = []\n",
    "        self.history['eval_acc'] = []\n",
    "        self.history['test_acc'] = []\n",
    "        \n",
    "        # Begin training\n",
    "        with tf.device(self.device):\n",
    "            for i in range(num_epochs):\n",
    "                # Training with gradient descent\n",
    "                for step, (X, y, seq_length) in enumerate(training_data):\n",
    "                    grads = self.grads_fn(X, y, seq_length, True)\n",
    "                    optimizer.apply_gradients(zip(grads, self.variables))\n",
    "                    \n",
    "                # Check accuracy train dataset\n",
    "                for step, (X, y, seq_length) in enumerate(training_data):\n",
    "                    logits = self.predict(X, seq_length, False)\n",
    "                    preds = tf.argmax(logits, axis=1)\n",
    "                    train_acc(preds, y)\n",
    "                self.history['train_acc'].append(train_acc.result().numpy())\n",
    "                # Reset metrics\n",
    "                train_acc.reset_states()\n",
    "\n",
    "                # Check accuracy eval dataset\n",
    "                for step, (X, y, seq_length) in enumerate(eval_data):\n",
    "                    logits = self.predict(X, seq_length, False)\n",
    "                    preds = tf.argmax(logits, axis=1)\n",
    "                    eval_acc(preds, y)\n",
    "                self.history['eval_acc'].append(eval_acc.result().numpy())\n",
    "                # Reset metrics\n",
    "                eval_acc.reset_states()\n",
    "\n",
    "\n",
    "                # Check accuracy test dataset\n",
    "                for step, (X, y, seq_length) in enumerate(test_dataset):\n",
    "                  logits = lstm_model.predict(X, seq_length, False)\n",
    "                  preds = tf.argmax(logits, axis=1)\n",
    "                  test_acc(preds, y)\n",
    "                  self.history['test_acc'].append(test_acc.result().numpy())\n",
    "                # Reset metrics\n",
    "                test_acc.reset_states()\n",
    "                \n",
    "                # Print train and eval accuracy\n",
    "                if (i==0) | ((i+1)%verbose==0):\n",
    "                    print('Train accuracy at epoch %d: ' %(i+1), self.history['train_acc'][-1])\n",
    "                    print('Eval accuracy at epoch %d: ' %(i+1), self.history['eval_acc'][-1])\n",
    "                    print('Test accuracy at epoch %d: ' %(i+1), self.history['test_acc'][-1])\n",
    "\n",
    "                # Check for early stopping\n",
    "                if self.history['eval_acc'][-1]>best_acc:\n",
    "                    best_acc = self.history['eval_acc'][-1]\n",
    "                    count = early_stopping_rounds\n",
    "                else:\n",
    "                    count -= 1\n",
    "                if count==0:\n",
    "                    break  "
   ]
  },
  {
   "cell_type": "markdown",
   "metadata": {
    "id": "Pq07GFNrP7UZ"
   },
   "source": [
    "## Train model with gradient descent and early stopping\n",
    "----"
   ]
  },
  {
   "cell_type": "markdown",
   "metadata": {
    "id": "VIuGUj5CP7UZ"
   },
   "source": [
    "### Model training with simple LSTM cells\n",
    "----"
   ]
  },
  {
   "cell_type": "code",
   "execution_count": 8,
   "metadata": {
    "colab": {
     "base_uri": "https://localhost:8080/"
    },
    "id": "uqk_DJZ3P7Ua",
    "outputId": "0bbf017d-8a62-476a-f6e6-5689046895df"
   },
   "outputs": [
    {
     "name": "stdout",
     "output_type": "stream",
     "text": [
      "Batch size: 32 learning rate: 1e-05 and optimizer: <class 'tensorflow.python.training.adam.AdamOptimizer'>\n",
      "WARNING:tensorflow:<keras.layers.legacy_rnn.rnn_cell_impl.BasicLSTMCell object at 0x0000017D68848A90>: Note that this cell is not optimized for performance. Please use tf.contrib.cudnn_rnn.CudnnLSTM for better performance on GPU.\n"
     ]
    },
    {
     "name": "stderr",
     "output_type": "stream",
     "text": [
      "C:\\Users\\sahil\\AppData\\Local\\Temp\\ipykernel_19400\\1919168491.py:45: UserWarning: `tf.nn.rnn_cell.BasicLSTMCell` is deprecated and will be removed in a future version. This class is equivalent as `tf.keras.layers.LSTMCell`, and will be replaced by that in Tensorflow 2.0.\n",
      "  self.rnn_cell = tf.compat.v1.nn.rnn_cell.BasicLSTMCell(cell_size)\n",
      "C:\\Users\\sahil\\anaconda3\\envs\\tensorflow\\lib\\site-packages\\keras\\layers\\legacy_rnn\\rnn_cell_impl.py:754: UserWarning: `layer.add_variable` is deprecated and will be removed in a future version. Please use `layer.add_weight` method instead.\n",
      "  self._kernel = self.add_variable(\n",
      "C:\\Users\\sahil\\anaconda3\\envs\\tensorflow\\lib\\site-packages\\keras\\layers\\legacy_rnn\\rnn_cell_impl.py:757: UserWarning: `layer.add_variable` is deprecated and will be removed in a future version. Please use `layer.add_weight` method instead.\n",
      "  self._bias = self.add_variable(\n"
     ]
    },
    {
     "ename": "KeyboardInterrupt",
     "evalue": "",
     "output_type": "error",
     "traceback": [
      "\u001B[1;31m---------------------------------------------------------------------------\u001B[0m",
      "\u001B[1;31mKeyboardInterrupt\u001B[0m                         Traceback (most recent call last)",
      "Input \u001B[1;32mIn [8]\u001B[0m, in \u001B[0;36m<cell line: 10>\u001B[1;34m()\u001B[0m\n\u001B[0;32m     16\u001B[0m lstm_model \u001B[38;5;241m=\u001B[39m RNNModel(vocabulary_size\u001B[38;5;241m=\u001B[39m\u001B[38;5;28mlen\u001B[39m(word2idx), device\u001B[38;5;241m=\u001B[39mdevice,\n\u001B[0;32m     17\u001B[0m                       checkpoint_directory\u001B[38;5;241m=\u001B[39mcheckpoint_directory)\n\u001B[0;32m     18\u001B[0m time_start \u001B[38;5;241m=\u001B[39m time\u001B[38;5;241m.\u001B[39mtime()\n\u001B[1;32m---> 19\u001B[0m \u001B[43mlstm_model\u001B[49m\u001B[38;5;241;43m.\u001B[39;49m\u001B[43mfit\u001B[49m\u001B[43m(\u001B[49m\u001B[43mtrain_dataset\u001B[49m\u001B[43m,\u001B[49m\u001B[43m \u001B[49m\u001B[43mtest_dataset\u001B[49m\u001B[43m,\u001B[49m\u001B[43m \u001B[49m\u001B[43mopm\u001B[49m\u001B[43m,\u001B[49m\u001B[43m \u001B[49m\u001B[43mnum_epochs\u001B[49m\u001B[38;5;241;43m=\u001B[39;49m\u001B[38;5;241;43m10\u001B[39;49m\u001B[43m,\u001B[49m\n\u001B[0;32m     20\u001B[0m \u001B[43m                \u001B[49m\u001B[43mearly_stopping_rounds\u001B[49m\u001B[38;5;241;43m=\u001B[39;49m\u001B[38;5;241;43m5\u001B[39;49m\u001B[43m,\u001B[49m\u001B[43m \u001B[49m\u001B[43mverbose\u001B[49m\u001B[38;5;241;43m=\u001B[39;49m\u001B[38;5;241;43m1\u001B[39;49m\u001B[43m,\u001B[49m\u001B[43m \u001B[49m\u001B[43mtrain_from_scratch\u001B[49m\u001B[38;5;241;43m=\u001B[39;49m\u001B[38;5;28;43;01mTrue\u001B[39;49;00m\u001B[43m)\u001B[49m\n\u001B[0;32m     21\u001B[0m time_end \u001B[38;5;241m=\u001B[39m time\u001B[38;5;241m.\u001B[39mtime()\n\u001B[0;32m     22\u001B[0m \u001B[38;5;28mprint\u001B[39m(\u001B[38;5;124m'\u001B[39m\u001B[38;5;130;01m\\n\u001B[39;00m\u001B[38;5;124mTotal training time (in seconds): \u001B[39m\u001B[38;5;132;01m{:.2f}\u001B[39;00m\u001B[38;5;124m'\u001B[39m\u001B[38;5;241m.\u001B[39mformat(time_end \u001B[38;5;241m-\u001B[39m time_start))\n",
      "Input \u001B[1;32mIn [7]\u001B[0m, in \u001B[0;36mRNNModel.fit\u001B[1;34m(self, training_data, eval_data, optimizer, num_epochs, early_stopping_rounds, verbose, train_from_scratch)\u001B[0m\n\u001B[0;32m    190\u001B[0m \u001B[38;5;66;03m# Check accuracy train dataset\u001B[39;00m\n\u001B[0;32m    191\u001B[0m \u001B[38;5;28;01mfor\u001B[39;00m step, (X, y, seq_length) \u001B[38;5;129;01min\u001B[39;00m \u001B[38;5;28menumerate\u001B[39m(training_data):\n\u001B[1;32m--> 192\u001B[0m     logits \u001B[38;5;241m=\u001B[39m \u001B[38;5;28;43mself\u001B[39;49m\u001B[38;5;241;43m.\u001B[39;49m\u001B[43mpredict\u001B[49m\u001B[43m(\u001B[49m\u001B[43mX\u001B[49m\u001B[43m,\u001B[49m\u001B[43m \u001B[49m\u001B[43mseq_length\u001B[49m\u001B[43m,\u001B[49m\u001B[43m \u001B[49m\u001B[38;5;28;43;01mFalse\u001B[39;49;00m\u001B[43m)\u001B[49m\n\u001B[0;32m    193\u001B[0m     preds \u001B[38;5;241m=\u001B[39m tf\u001B[38;5;241m.\u001B[39margmax(logits, axis\u001B[38;5;241m=\u001B[39m\u001B[38;5;241m1\u001B[39m)\n\u001B[0;32m    194\u001B[0m     train_acc(preds, y)\n",
      "Input \u001B[1;32mIn [7]\u001B[0m, in \u001B[0;36mRNNModel.predict\u001B[1;34m(self, X, seq_length, is_training)\u001B[0m\n\u001B[0;32m     83\u001B[0m outputs \u001B[38;5;241m=\u001B[39m []\n\u001B[0;32m     84\u001B[0m \u001B[38;5;28;01mfor\u001B[39;00m input_step \u001B[38;5;129;01min\u001B[39;00m unstacked_embeddings:\n\u001B[1;32m---> 85\u001B[0m     output, state \u001B[38;5;241m=\u001B[39m \u001B[38;5;28;43mself\u001B[39;49m\u001B[38;5;241;43m.\u001B[39;49m\u001B[43mrnn_cell\u001B[49m\u001B[43m(\u001B[49m\u001B[43minput_step\u001B[49m\u001B[43m,\u001B[49m\u001B[43m \u001B[49m\u001B[43mstate\u001B[49m\u001B[43m)\u001B[49m\n\u001B[0;32m     86\u001B[0m     outputs\u001B[38;5;241m.\u001B[39mappend(output)\n\u001B[0;32m     88\u001B[0m \u001B[38;5;66;03m# Stack outputs to (batch_size, time_steps, cell_size)\u001B[39;00m\n",
      "File \u001B[1;32m~\\anaconda3\\envs\\tensorflow\\lib\\site-packages\\keras\\layers\\legacy_rnn\\rnn_cell_impl.py:382\u001B[0m, in \u001B[0;36mLayerRNNCell.__call__\u001B[1;34m(self, inputs, state, scope, *args, **kwargs)\u001B[0m\n\u001B[0;32m    360\u001B[0m \u001B[38;5;124;03m\"\"\"Run this RNN cell on inputs, starting from the given state.\u001B[39;00m\n\u001B[0;32m    361\u001B[0m \n\u001B[0;32m    362\u001B[0m \u001B[38;5;124;03mArgs:\u001B[39;00m\n\u001B[1;32m   (...)\u001B[0m\n\u001B[0;32m    377\u001B[0m \u001B[38;5;124;03m    the arity and shapes of `state`.\u001B[39;00m\n\u001B[0;32m    378\u001B[0m \u001B[38;5;124;03m\"\"\"\u001B[39;00m\n\u001B[0;32m    379\u001B[0m \u001B[38;5;66;03m# Bypass RNNCell's variable capturing semantics for LayerRNNCell.\u001B[39;00m\n\u001B[0;32m    380\u001B[0m \u001B[38;5;66;03m# Instead, it is up to subclasses to provide a proper build\u001B[39;00m\n\u001B[0;32m    381\u001B[0m \u001B[38;5;66;03m# method.  See the class docstring for more details.\u001B[39;00m\n\u001B[1;32m--> 382\u001B[0m \u001B[38;5;28;01mreturn\u001B[39;00m base_layer\u001B[38;5;241m.\u001B[39mLayer\u001B[38;5;241m.\u001B[39m\u001B[38;5;21m__call__\u001B[39m(\n\u001B[0;32m    383\u001B[0m     \u001B[38;5;28mself\u001B[39m, inputs, state, scope\u001B[38;5;241m=\u001B[39mscope, \u001B[38;5;241m*\u001B[39margs, \u001B[38;5;241m*\u001B[39m\u001B[38;5;241m*\u001B[39mkwargs)\n",
      "File \u001B[1;32m~\\anaconda3\\envs\\tensorflow\\lib\\site-packages\\keras\\legacy_tf_layers\\base.py:569\u001B[0m, in \u001B[0;36mLayer.__call__\u001B[1;34m(self, inputs, *args, **kwargs)\u001B[0m\n\u001B[0;32m    566\u001B[0m     kwargs[\u001B[38;5;124m'\u001B[39m\u001B[38;5;124mscope\u001B[39m\u001B[38;5;124m'\u001B[39m] \u001B[38;5;241m=\u001B[39m scope\n\u001B[0;32m    568\u001B[0m   \u001B[38;5;66;03m# Actually call layer\u001B[39;00m\n\u001B[1;32m--> 569\u001B[0m   outputs \u001B[38;5;241m=\u001B[39m \u001B[38;5;28msuper\u001B[39m(Layer, \u001B[38;5;28mself\u001B[39m)\u001B[38;5;241m.\u001B[39m\u001B[38;5;21m__call__\u001B[39m(inputs, \u001B[38;5;241m*\u001B[39margs, \u001B[38;5;241m*\u001B[39m\u001B[38;5;241m*\u001B[39mkwargs)\n\u001B[0;32m    571\u001B[0m \u001B[38;5;28;01mif\u001B[39;00m \u001B[38;5;129;01mnot\u001B[39;00m tf\u001B[38;5;241m.\u001B[39mexecuting_eagerly():\n\u001B[0;32m    572\u001B[0m   \u001B[38;5;66;03m# Update global default collections.\u001B[39;00m\n\u001B[0;32m    573\u001B[0m   _add_elements_to_collection(\u001B[38;5;28mself\u001B[39m\u001B[38;5;241m.\u001B[39mupdates, tf\u001B[38;5;241m.\u001B[39mcompat\u001B[38;5;241m.\u001B[39mv1\u001B[38;5;241m.\u001B[39mGraphKeys\u001B[38;5;241m.\u001B[39mUPDATE_OPS)\n",
      "File \u001B[1;32m~\\anaconda3\\envs\\tensorflow\\lib\\site-packages\\keras\\utils\\traceback_utils.py:64\u001B[0m, in \u001B[0;36mfilter_traceback.<locals>.error_handler\u001B[1;34m(*args, **kwargs)\u001B[0m\n\u001B[0;32m     62\u001B[0m filtered_tb \u001B[38;5;241m=\u001B[39m \u001B[38;5;28;01mNone\u001B[39;00m\n\u001B[0;32m     63\u001B[0m \u001B[38;5;28;01mtry\u001B[39;00m:\n\u001B[1;32m---> 64\u001B[0m   \u001B[38;5;28;01mreturn\u001B[39;00m fn(\u001B[38;5;241m*\u001B[39margs, \u001B[38;5;241m*\u001B[39m\u001B[38;5;241m*\u001B[39mkwargs)\n\u001B[0;32m     65\u001B[0m \u001B[38;5;28;01mexcept\u001B[39;00m \u001B[38;5;167;01mException\u001B[39;00m \u001B[38;5;28;01mas\u001B[39;00m e:  \u001B[38;5;66;03m# pylint: disable=broad-except\u001B[39;00m\n\u001B[0;32m     66\u001B[0m   filtered_tb \u001B[38;5;241m=\u001B[39m _process_traceback_frames(e\u001B[38;5;241m.\u001B[39m__traceback__)\n",
      "File \u001B[1;32m~\\anaconda3\\envs\\tensorflow\\lib\\site-packages\\keras\\engine\\base_layer.py:1096\u001B[0m, in \u001B[0;36mLayer.__call__\u001B[1;34m(self, *args, **kwargs)\u001B[0m\n\u001B[0;32m   1092\u001B[0m   inputs \u001B[38;5;241m=\u001B[39m \u001B[38;5;28mself\u001B[39m\u001B[38;5;241m.\u001B[39m_maybe_cast_inputs(inputs, input_list)\n\u001B[0;32m   1094\u001B[0m \u001B[38;5;28;01mwith\u001B[39;00m autocast_variable\u001B[38;5;241m.\u001B[39menable_auto_cast_variables(\n\u001B[0;32m   1095\u001B[0m     \u001B[38;5;28mself\u001B[39m\u001B[38;5;241m.\u001B[39m_compute_dtype_object):\n\u001B[1;32m-> 1096\u001B[0m   outputs \u001B[38;5;241m=\u001B[39m call_fn(inputs, \u001B[38;5;241m*\u001B[39margs, \u001B[38;5;241m*\u001B[39m\u001B[38;5;241m*\u001B[39mkwargs)\n\u001B[0;32m   1098\u001B[0m \u001B[38;5;28;01mif\u001B[39;00m \u001B[38;5;28mself\u001B[39m\u001B[38;5;241m.\u001B[39m_activity_regularizer:\n\u001B[0;32m   1099\u001B[0m   \u001B[38;5;28mself\u001B[39m\u001B[38;5;241m.\u001B[39m_handle_activity_regularization(inputs, outputs)\n",
      "File \u001B[1;32m~\\anaconda3\\envs\\tensorflow\\lib\\site-packages\\keras\\utils\\traceback_utils.py:92\u001B[0m, in \u001B[0;36minject_argument_info_in_traceback.<locals>.error_handler\u001B[1;34m(*args, **kwargs)\u001B[0m\n\u001B[0;32m     90\u001B[0m bound_signature \u001B[38;5;241m=\u001B[39m \u001B[38;5;28;01mNone\u001B[39;00m\n\u001B[0;32m     91\u001B[0m \u001B[38;5;28;01mtry\u001B[39;00m:\n\u001B[1;32m---> 92\u001B[0m   \u001B[38;5;28;01mreturn\u001B[39;00m fn(\u001B[38;5;241m*\u001B[39margs, \u001B[38;5;241m*\u001B[39m\u001B[38;5;241m*\u001B[39mkwargs)\n\u001B[0;32m     93\u001B[0m \u001B[38;5;28;01mexcept\u001B[39;00m \u001B[38;5;167;01mException\u001B[39;00m \u001B[38;5;28;01mas\u001B[39;00m e:  \u001B[38;5;66;03m# pylint: disable=broad-except\u001B[39;00m\n\u001B[0;32m     94\u001B[0m   \u001B[38;5;28;01mif\u001B[39;00m \u001B[38;5;28mhasattr\u001B[39m(e, \u001B[38;5;124m'\u001B[39m\u001B[38;5;124m_keras_call_info_injected\u001B[39m\u001B[38;5;124m'\u001B[39m):\n\u001B[0;32m     95\u001B[0m     \u001B[38;5;66;03m# Only inject info for the innermost failing call\u001B[39;00m\n",
      "File \u001B[1;32m~\\anaconda3\\envs\\tensorflow\\lib\\site-packages\\keras\\layers\\legacy_rnn\\rnn_cell_impl.py:802\u001B[0m, in \u001B[0;36mBasicLSTMCell.call\u001B[1;34m(self, inputs, state)\u001B[0m\n\u001B[0;32m    799\u001B[0m add \u001B[38;5;241m=\u001B[39m tf\u001B[38;5;241m.\u001B[39madd\n\u001B[0;32m    800\u001B[0m multiply \u001B[38;5;241m=\u001B[39m tf\u001B[38;5;241m.\u001B[39mmultiply\n\u001B[0;32m    801\u001B[0m new_c \u001B[38;5;241m=\u001B[39m add(\n\u001B[1;32m--> 802\u001B[0m     multiply(c, \u001B[43msigmoid\u001B[49m\u001B[43m(\u001B[49m\u001B[43madd\u001B[49m\u001B[43m(\u001B[49m\u001B[43mf\u001B[49m\u001B[43m,\u001B[49m\u001B[43m \u001B[49m\u001B[43mforget_bias_tensor\u001B[49m\u001B[43m)\u001B[49m\u001B[43m)\u001B[49m),\n\u001B[0;32m    803\u001B[0m     multiply(sigmoid(i), \u001B[38;5;28mself\u001B[39m\u001B[38;5;241m.\u001B[39m_activation(j)))\n\u001B[0;32m    804\u001B[0m new_h \u001B[38;5;241m=\u001B[39m multiply(\u001B[38;5;28mself\u001B[39m\u001B[38;5;241m.\u001B[39m_activation(new_c), sigmoid(o))\n\u001B[0;32m    806\u001B[0m \u001B[38;5;28;01mif\u001B[39;00m \u001B[38;5;28mself\u001B[39m\u001B[38;5;241m.\u001B[39m_state_is_tuple:\n",
      "File \u001B[1;32m~\\anaconda3\\envs\\tensorflow\\lib\\site-packages\\tensorflow\\python\\util\\traceback_utils.py:150\u001B[0m, in \u001B[0;36mfilter_traceback.<locals>.error_handler\u001B[1;34m(*args, **kwargs)\u001B[0m\n\u001B[0;32m    148\u001B[0m filtered_tb \u001B[38;5;241m=\u001B[39m \u001B[38;5;28;01mNone\u001B[39;00m\n\u001B[0;32m    149\u001B[0m \u001B[38;5;28;01mtry\u001B[39;00m:\n\u001B[1;32m--> 150\u001B[0m   \u001B[38;5;28;01mreturn\u001B[39;00m fn(\u001B[38;5;241m*\u001B[39margs, \u001B[38;5;241m*\u001B[39m\u001B[38;5;241m*\u001B[39mkwargs)\n\u001B[0;32m    151\u001B[0m \u001B[38;5;28;01mexcept\u001B[39;00m \u001B[38;5;167;01mException\u001B[39;00m \u001B[38;5;28;01mas\u001B[39;00m e:\n\u001B[0;32m    152\u001B[0m   filtered_tb \u001B[38;5;241m=\u001B[39m _process_traceback_frames(e\u001B[38;5;241m.\u001B[39m__traceback__)\n",
      "File \u001B[1;32m~\\anaconda3\\envs\\tensorflow\\lib\\site-packages\\tensorflow\\python\\util\\dispatch.py:1082\u001B[0m, in \u001B[0;36madd_dispatch_support.<locals>.decorator.<locals>.op_dispatch_handler\u001B[1;34m(*args, **kwargs)\u001B[0m\n\u001B[0;32m   1080\u001B[0m \u001B[38;5;66;03m# Fallback dispatch system (dispatch v1):\u001B[39;00m\n\u001B[0;32m   1081\u001B[0m \u001B[38;5;28;01mtry\u001B[39;00m:\n\u001B[1;32m-> 1082\u001B[0m   \u001B[38;5;28;01mreturn\u001B[39;00m dispatch_target(\u001B[38;5;241m*\u001B[39margs, \u001B[38;5;241m*\u001B[39m\u001B[38;5;241m*\u001B[39mkwargs)\n\u001B[0;32m   1083\u001B[0m \u001B[38;5;28;01mexcept\u001B[39;00m (\u001B[38;5;167;01mTypeError\u001B[39;00m, \u001B[38;5;167;01mValueError\u001B[39;00m):\n\u001B[0;32m   1084\u001B[0m   \u001B[38;5;66;03m# Note: convert_to_eager_tensor currently raises a ValueError, not a\u001B[39;00m\n\u001B[0;32m   1085\u001B[0m   \u001B[38;5;66;03m# TypeError, when given unexpected types.  So we need to catch both.\u001B[39;00m\n\u001B[0;32m   1086\u001B[0m   result \u001B[38;5;241m=\u001B[39m dispatch(op_dispatch_handler, args, kwargs)\n",
      "File \u001B[1;32m~\\anaconda3\\envs\\tensorflow\\lib\\site-packages\\tensorflow\\python\\ops\\math_ops.py:4192\u001B[0m, in \u001B[0;36msigmoid\u001B[1;34m(x, name)\u001B[0m\n\u001B[0;32m   4190\u001B[0m \u001B[38;5;28;01mwith\u001B[39;00m ops\u001B[38;5;241m.\u001B[39mname_scope(name, \u001B[38;5;124m\"\u001B[39m\u001B[38;5;124mSigmoid\u001B[39m\u001B[38;5;124m\"\u001B[39m, [x]) \u001B[38;5;28;01mas\u001B[39;00m name:\n\u001B[0;32m   4191\u001B[0m   x \u001B[38;5;241m=\u001B[39m ops\u001B[38;5;241m.\u001B[39mconvert_to_tensor(x, name\u001B[38;5;241m=\u001B[39m\u001B[38;5;124m\"\u001B[39m\u001B[38;5;124mx\u001B[39m\u001B[38;5;124m\"\u001B[39m)\n\u001B[1;32m-> 4192\u001B[0m   \u001B[38;5;28;01mreturn\u001B[39;00m \u001B[43mgen_math_ops\u001B[49m\u001B[38;5;241;43m.\u001B[39;49m\u001B[43msigmoid\u001B[49m\u001B[43m(\u001B[49m\u001B[43mx\u001B[49m\u001B[43m,\u001B[49m\u001B[43m \u001B[49m\u001B[43mname\u001B[49m\u001B[38;5;241;43m=\u001B[39;49m\u001B[43mname\u001B[49m\u001B[43m)\u001B[49m\n",
      "File \u001B[1;32m~\\anaconda3\\envs\\tensorflow\\lib\\site-packages\\tensorflow\\python\\ops\\gen_math_ops.py:9420\u001B[0m, in \u001B[0;36msigmoid\u001B[1;34m(x, name)\u001B[0m\n\u001B[0;32m   9418\u001B[0m \u001B[38;5;28;01mif\u001B[39;00m tld\u001B[38;5;241m.\u001B[39mis_eager:\n\u001B[0;32m   9419\u001B[0m   \u001B[38;5;28;01mtry\u001B[39;00m:\n\u001B[1;32m-> 9420\u001B[0m     _result \u001B[38;5;241m=\u001B[39m \u001B[43mpywrap_tfe\u001B[49m\u001B[38;5;241;43m.\u001B[39;49m\u001B[43mTFE_Py_FastPathExecute\u001B[49m\u001B[43m(\u001B[49m\n\u001B[0;32m   9421\u001B[0m \u001B[43m      \u001B[49m\u001B[43m_ctx\u001B[49m\u001B[43m,\u001B[49m\u001B[43m \u001B[49m\u001B[38;5;124;43m\"\u001B[39;49m\u001B[38;5;124;43mSigmoid\u001B[39;49m\u001B[38;5;124;43m\"\u001B[39;49m\u001B[43m,\u001B[49m\u001B[43m \u001B[49m\u001B[43mname\u001B[49m\u001B[43m,\u001B[49m\u001B[43m \u001B[49m\u001B[43mx\u001B[49m\u001B[43m)\u001B[49m\n\u001B[0;32m   9422\u001B[0m     \u001B[38;5;28;01mreturn\u001B[39;00m _result\n\u001B[0;32m   9423\u001B[0m   \u001B[38;5;28;01mexcept\u001B[39;00m _core\u001B[38;5;241m.\u001B[39m_NotOkStatusException \u001B[38;5;28;01mas\u001B[39;00m e:\n",
      "\u001B[1;31mKeyboardInterrupt\u001B[0m: "
     ]
    }
   ],
   "source": [
    "# Specify the path where you want to save/restore the trained variables.\n",
    "checkpoint_directory = 'models_checkpoints/ImdbRNN/'\n",
    "\n",
    "# Use the GPU if available.\n",
    "device = 'gpu:0'\n",
    "\n",
    "# Define optimizer.\n",
    "l_rate = [1e-5, 5e-5]\n",
    "optimizers = [tf.compat.v1.train.AdamOptimizer, tf.keras.optimizers.RMSprop,]\n",
    "for lr in l_rate:\n",
    "    for optim in optimizers:\n",
    "\n",
    "        print(\"Batch size: \" + format(batch) + \" learning rate: \" + format(lr) +\" and \" + \"optimizer: \" + format(optim))\n",
    "        opm = optim(lr)\n",
    "        # Instantiate model. This doesn't initialize the variables yet.\n",
    "        lstm_model = RNNModel(vocabulary_size=len(word2idx), device=device,\n",
    "                              checkpoint_directory=checkpoint_directory)\n",
    "        time_start = time.time()\n",
    "        lstm_model.fit(train_dataset, test_dataset, opm, num_epochs=10,\n",
    "                        early_stopping_rounds=5, verbose=1, train_from_scratch=True)\n",
    "        time_end = time.time()\n",
    "        print('\\nTotal training time (in seconds): {:.2f}'.format(time_end - time_start))\n",
    "\n",
    "        f, (ax1, ax2) = plt.subplots(1, 2, sharey=True, figsize=(10, 4))\n",
    "        ax1.plot(range(len(lstm_model.history['train_acc'])), lstm_model.history['train_acc'],\n",
    "         label='LSTM Train Accuracy')\n",
    "        ax1.plot(range(len(lstm_model.history['eval_acc'])), lstm_model.history['eval_acc'],\n",
    "          label='LSTM Val Accuracy')"
   ]
  },
  {
   "cell_type": "code",
   "execution_count": null,
   "metadata": {
    "colab": {
     "background_save": true,
     "base_uri": "https://localhost:8080/"
    },
    "id": "IXvPU8_gP7Ua",
    "outputId": "a6914d6b-eb69-4461-e382-b3099949cc33",
    "pycharm": {
     "is_executing": true
    }
   },
   "outputs": [],
   "source": [
    "# Train model\n",
    "import time\n",
    "time_start = time.time()\n",
    "lstm_model.fit(train_dataset, test_dataset, optimizer, num_epochs=10, \n",
    "                early_stopping_rounds=5, verbose=1, train_from_scratch=True)\n",
    "time_end = time.time()\n",
    "print('\\nTotal training time (in seconds): {:.2f}'.format(time_end - time_start))"
   ]
  },
  {
   "cell_type": "code",
   "execution_count": 16,
   "metadata": {
    "id": "_EjYsfyvBaOG"
   },
   "outputs": [],
   "source": [
    "#lstm_model.save_model()\n",
    "checkpoint = tf.train.Checkpoint(lstm_model)\n",
    "save_path = checkpoint.save(checkpoint_directory)"
   ]
  },
  {
   "cell_type": "code",
   "execution_count": 23,
   "outputs": [
    {
     "data": {
      "text/plain": "[<matplotlib.lines.Line2D at 0x2604266d970>]"
     },
     "execution_count": 23,
     "metadata": {},
     "output_type": "execute_result"
    },
    {
     "data": {
      "text/plain": "<Figure size 720x288 with 2 Axes>",
      "image/png": "[encoded data removed]"
     },
     "metadata": {
      "needs_background": "light"
     },
     "output_type": "display_data"
    }
   ],
   "source": [
    "f, (ax1, ax2) = plt.subplots(1, 2, sharey=True, figsize=(10, 4))\n",
    "ax1.plot(range(len(lstm_model.history['train_acc'])), lstm_model.history['train_acc'],\n",
    "         label='LSTM Train Accuracy')\n",
    "ax1.plot(range(len(lstm_model.history['eval_acc'])), lstm_model.history['eval_acc'],\n",
    "          label='LSTM Val Accuracy')\n",
    "# ax1.plot(range(len(lstm_model.history['test_acc'])), lstm_model.history['test_acc'],\n",
    "#          label='LSTM Test Accuracy')\n"
   ],
   "metadata": {
    "collapsed": false,
    "pycharm": {
     "name": "#%%\n"
    }
   }
  },
  {
   "cell_type": "markdown",
   "metadata": {
    "id": "JmzXh0ljP7Ua"
   },
   "source": [
    "### Model training with RNN cells \n",
    "---"
   ]
  },
  {
   "cell_type": "code",
   "execution_count": 42,
   "metadata": {
    "colab": {
     "base_uri": "https://localhost:8080/"
    },
    "id": "TmjyKjDYP7Ub",
    "outputId": "2b522e81-8023-435b-f4d3-682cb0ad0ec0"
   },
   "outputs": [
    {
     "name": "stdout",
     "output_type": "stream",
     "text": [
      "WARNING:tensorflow:<keras.layers.legacy_rnn.rnn_cell_impl.BasicRNNCell object at 0x7ff8d09b1c50>: Note that this cell is not optimized for performance. Please use tf.contrib.cudnn_rnn.CudnnRNNTanh for better performance on GPU.\n"
     ]
    },
    {
     "name": "stderr",
     "output_type": "stream",
     "text": [
      "/usr/local/lib/python3.7/dist-packages/ipykernel_launcher.py:48: UserWarning: `tf.nn.rnn_cell.BasicRNNCell` is deprecated and will be removed in a future version. This class is equivalent as `tf.keras.layers.SimpleRNNCell`, and will be replaced by that in Tensorflow 2.0.\n"
     ]
    }
   ],
   "source": [
    "# Define optimizer.\n",
    "optimizer = tf.compat.v1.train.AdamOptimizer(learning_rate=1e-4)\n",
    "\n",
    "# Instantiate model. This doesn't initialize the variables yet.\n",
    "ugrnn_model = RNNModel(vocabulary_size=len(word2idx), rnn_cell='ugrnn', \n",
    "                       device=device, checkpoint_directory=checkpoint_directory)"
   ]
  },
  {
   "cell_type": "code",
   "execution_count": 43,
   "metadata": {
    "colab": {
     "base_uri": "https://localhost:8080/"
    },
    "id": "zd5bDpAzP7Ub",
    "outputId": "8231b7ae-61a3-499d-9452-08c73c27cc2d"
   },
   "outputs": [
    {
     "metadata": {
      "tags": null
     },
     "name": "stderr",
     "output_type": "stream",
     "text": [
      "/usr/local/lib/python3.7/dist-packages/keras/layers/legacy_rnn/rnn_cell_impl.py:459: UserWarning: `layer.add_variable` is deprecated and will be removed in a future version. Please use `layer.add_weight` method instead.\n",
      "  shape=[input_depth + self._num_units, self._num_units])\n",
      "/usr/local/lib/python3.7/dist-packages/keras/layers/legacy_rnn/rnn_cell_impl.py:463: UserWarning: `layer.add_variable` is deprecated and will be removed in a future version. Please use `layer.add_weight` method instead.\n",
      "  initializer=tf.compat.v1.zeros_initializer(dtype=self.dtype))\n"
     ]
    },
    {
     "name": "stdout",
     "output_type": "stream",
     "text": [
      "Train accuracy at epoch 1:  0.66056\n",
      "Eval accuracy at epoch 1:  0.60592\n",
      "Train accuracy at epoch 2:  0.83828\n",
      "Eval accuracy at epoch 2:  0.811\n",
      "Train accuracy at epoch 3:  0.91788\n",
      "Eval accuracy at epoch 3:  0.8672\n",
      "Train accuracy at epoch 4:  0.94596\n",
      "Eval accuracy at epoch 4:  0.87636\n",
      "Train accuracy at epoch 5:  0.96256\n",
      "Eval accuracy at epoch 5:  0.87728\n",
      "Train accuracy at epoch 6:  0.97416\n",
      "Eval accuracy at epoch 6:  0.87816\n",
      "Train accuracy at epoch 7:  0.97972\n",
      "Eval accuracy at epoch 7:  0.86596\n",
      "Train accuracy at epoch 8:  0.98612\n",
      "Eval accuracy at epoch 8:  0.86144\n",
      "Train accuracy at epoch 9:  0.98308\n",
      "Eval accuracy at epoch 9:  0.87024\n",
      "Train accuracy at epoch 10:  0.99208\n",
      "Eval accuracy at epoch 10:  0.86596\n",
      "Train accuracy at epoch 11:  0.99388\n",
      "Eval accuracy at epoch 11:  0.86136\n"
     ]
    }
   ],
   "source": [
    "# Train model\n",
    "ugrnn_model.fit(train_dataset, test_dataset, optimizer, num_epochs=50, \n",
    "                early_stopping_rounds=5, verbose=1, train_from_scratch=True)"
   ]
  },
  {
   "cell_type": "markdown",
   "metadata": {
    "id": "7HloeEKJP7Ub"
   },
   "source": [
    "### Performance comparison\n",
    "---"
   ]
  },
  {
   "cell_type": "code",
   "execution_count": 41,
   "metadata": {
    "colab": {
     "base_uri": "https://localhost:8080/",
     "height": 265
    },
    "id": "LW-exJpxP7Ub",
    "outputId": "ebec590d-8a04-439e-970a-92af12579dba"
   },
   "outputs": [
    {
     "ename": "NameError",
     "evalue": "name 'ugrnn_model' is not defined",
     "output_type": "error",
     "traceback": [
      "\u001B[1;31m---------------------------------------------------------------------------\u001B[0m",
      "\u001B[1;31mNameError\u001B[0m                                 Traceback (most recent call last)",
      "Input \u001B[1;32mIn [41]\u001B[0m, in \u001B[0;36m<cell line: 6>\u001B[1;34m()\u001B[0m\n\u001B[0;32m      2\u001B[0m ax1\u001B[38;5;241m.\u001B[39mplot(\u001B[38;5;28mrange\u001B[39m(\u001B[38;5;28mlen\u001B[39m(lstm_model\u001B[38;5;241m.\u001B[39mhistory[\u001B[38;5;124m'\u001B[39m\u001B[38;5;124mtrain_acc\u001B[39m\u001B[38;5;124m'\u001B[39m])), lstm_model\u001B[38;5;241m.\u001B[39mhistory[\u001B[38;5;124m'\u001B[39m\u001B[38;5;124mtrain_acc\u001B[39m\u001B[38;5;124m'\u001B[39m], \n\u001B[0;32m      3\u001B[0m          label\u001B[38;5;241m=\u001B[39m\u001B[38;5;124m'\u001B[39m\u001B[38;5;124mLSTM Train Accuracy\u001B[39m\u001B[38;5;124m'\u001B[39m)\n\u001B[0;32m      4\u001B[0m ax1\u001B[38;5;241m.\u001B[39mplot(\u001B[38;5;28mrange\u001B[39m(\u001B[38;5;28mlen\u001B[39m(lstm_model\u001B[38;5;241m.\u001B[39mhistory[\u001B[38;5;124m'\u001B[39m\u001B[38;5;124meval_acc\u001B[39m\u001B[38;5;124m'\u001B[39m])), lstm_model\u001B[38;5;241m.\u001B[39mhistory[\u001B[38;5;124m'\u001B[39m\u001B[38;5;124meval_acc\u001B[39m\u001B[38;5;124m'\u001B[39m], \n\u001B[0;32m      5\u001B[0m          label\u001B[38;5;241m=\u001B[39m\u001B[38;5;124m'\u001B[39m\u001B[38;5;124mLSTM Test Accuracy\u001B[39m\u001B[38;5;124m'\u001B[39m)\n\u001B[1;32m----> 6\u001B[0m ax2\u001B[38;5;241m.\u001B[39mplot(\u001B[38;5;28mrange\u001B[39m(\u001B[38;5;28mlen\u001B[39m(\u001B[43mugrnn_model\u001B[49m\u001B[38;5;241m.\u001B[39mhistory[\u001B[38;5;124m'\u001B[39m\u001B[38;5;124mtrain_acc\u001B[39m\u001B[38;5;124m'\u001B[39m])), ugrnn_model\u001B[38;5;241m.\u001B[39mhistory[\u001B[38;5;124m'\u001B[39m\u001B[38;5;124mtrain_acc\u001B[39m\u001B[38;5;124m'\u001B[39m],\n\u001B[0;32m      7\u001B[0m          label\u001B[38;5;241m=\u001B[39m\u001B[38;5;124m'\u001B[39m\u001B[38;5;124mUGRNN Train Accuracy\u001B[39m\u001B[38;5;124m'\u001B[39m)\n\u001B[0;32m      8\u001B[0m ax2\u001B[38;5;241m.\u001B[39mplot(\u001B[38;5;28mrange\u001B[39m(\u001B[38;5;28mlen\u001B[39m(ugrnn_model\u001B[38;5;241m.\u001B[39mhistory[\u001B[38;5;124m'\u001B[39m\u001B[38;5;124meval_acc\u001B[39m\u001B[38;5;124m'\u001B[39m])), ugrnn_model\u001B[38;5;241m.\u001B[39mhistory[\u001B[38;5;124m'\u001B[39m\u001B[38;5;124meval_acc\u001B[39m\u001B[38;5;124m'\u001B[39m],\n\u001B[0;32m      9\u001B[0m          label\u001B[38;5;241m=\u001B[39m\u001B[38;5;124m'\u001B[39m\u001B[38;5;124mUGRNN Test Accuracy\u001B[39m\u001B[38;5;124m'\u001B[39m)\n\u001B[0;32m     10\u001B[0m ax1\u001B[38;5;241m.\u001B[39mlegend();\n",
      "\u001B[1;31mNameError\u001B[0m: name 'ugrnn_model' is not defined"
     ]
    },
    {
     "data": {
      "text/plain": "<Figure size 720x288 with 2 Axes>",
      "image/png": "[encoded data removed]"
     },
     "metadata": {
      "needs_background": "light"
     },
     "output_type": "display_data"
    }
   ],
   "source": [
    "f, (ax1, ax2, ax3) = plt.subplots(1, 2, sharey=True, figsize=(10, 4))\n",
    "ax1.plot(range(len(lstm_model.history['train_acc'])), lstm_model.history['train_acc'], \n",
    "         label='LSTM Train Accuracy')\n",
    "ax1.plot(range(len(lstm_model.history['eval_acc'])), lstm_model.history['eval_acc'], \n",
    "         label='LSTM Test Accuracy')\n",
    "ax2.plot(range(len(ugrnn_model.history['train_acc'])), ugrnn_model.history['train_acc'],\n",
    "         label='UGRNN Train Accuracy')\n",
    "ax2.plot(range(len(ugrnn_model.history['eval_acc'])), ugrnn_model.history['eval_acc'],\n",
    "         label='UGRNN Test Accuracy')\n",
    "ax3.plot(range(len(ugrnn_model.history['train_acc'])), ugrnn_model.history['train_acc'],\n",
    "         label='UGRNN Train Accuracy')\n",
    "ax3.plot(range(len(ugrnn_model.history['test_acc'])), ugrnn_model.history['test_acc'],\n",
    "         label='UGRNN Test Accuracy')\n",
    "ax1.legend()\n",
    "ax2.legend()\n",
    "ax3.legend()"
   ]
  },
  {
   "cell_type": "markdown",
   "metadata": {
    "id": "XrMkRP-0P7Ub"
   },
   "source": [
    "## Test network on new samples\n",
    "---\n",
    "\n"
   ]
  },
  {
   "cell_type": "code",
   "execution_count": 47,
   "metadata": {
    "id": "nXSOpyz0P7Uc"
   },
   "outputs": [],
   "source": [
    "###############################################################\n",
    "# Import/download necessary libraries to process new sequences\n",
    "###############################################################\n",
    "import nltk\n",
    "try:\n",
    "    nltk.data.find('tokenizers/punkt')\n",
    "except LookupError:\n",
    "    nltk.download('punkt')\n",
    "from nltk.tokenize import word_tokenize\n",
    "import re"
   ]
  },
  {
   "cell_type": "code",
   "execution_count": 48,
   "metadata": {
    "id": "5zDt0vVlP7Uc"
   },
   "outputs": [],
   "source": [
    "def process_new_review(review):\n",
    "    '''Function to process a new review.\n",
    "       Args:\n",
    "           review: original text review, string.\n",
    "       Returns:\n",
    "           indexed_review: sequence of integers, words correspondence \n",
    "                           from word2idx.\n",
    "           seq_length: the length of the review.\n",
    "    '''\n",
    "    indexed_review = re.sub(r'<[^>]+>', ' ', review)\n",
    "    indexed_review = word_tokenize(indexed_review)\n",
    "    indexed_review = [word2idx[word] if word in list(word2idx.keys()) else \n",
    "                      word2idx['Unknown_token'] for word in indexed_review]\n",
    "    indexed_review = indexed_review + [word2idx['End_token']]\n",
    "    seq_length = len(indexed_review)    \n",
    "    return indexed_review, seq_length"
   ]
  },
  {
   "cell_type": "code",
   "execution_count": 49,
   "metadata": {
    "id": "8ZmRTbHCP7Uc"
   },
   "outputs": [],
   "source": [
    "sent_dict = {0: 'negative', 1: 'positive'}"
   ]
  },
  {
   "cell_type": "code",
   "execution_count": 50,
   "metadata": {
    "id": "lo8W4xfdP7Uc"
   },
   "outputs": [],
   "source": [
    "review_score_10 = \"I think Bad Apples is a great time and I recommend! I enjoyed the opening, which gave way for the rest of the movie to occur. The main couple was very likable and I believed all of their interactions. They had great onscreen chemistry and made me laugh quite a few times! Keeping the girls in the masks but seeing them in action was something I loved. It kept a mystery to them throughout. I think the dialogue was great. The kills were fun. And the special surprise gore effect at the end was AWESOME!! I won't spoil that part ;) I also enjoyed how the movie wrapped up. It gave a very urban legends type feel of \\\"did you ever hear the story...\\\". Plus is leaves the door open for another film which I wouldn't mind at all. Long story short, I think if you take the film for what it is; a fun little horror flick, then you won't be disappointed! HaPpY eArLy HaLLoWeEn!\""
   ]
  },
  {
   "cell_type": "code",
   "execution_count": 51,
   "metadata": {
    "id": "jL2PWrzPP7Uc"
   },
   "outputs": [],
   "source": [
    "review_score_4 = \"A young couple comes to a small town, where the husband get a job working in a hospital. The wife which you instantly hate or dislike works home, at the same time a horrible murders takes place in this small town by two masked killers. Bad Apples is just your tipical B-horror movie with average acting (I give them that. Altough you may get the idea that some of the actors are crazy-convervative Christians), but the script is just bad, and that's what destroys the film.\""
   ]
  },
  {
   "cell_type": "code",
   "execution_count": 52,
   "metadata": {
    "id": "dGJG7F6kP7Uc"
   },
   "outputs": [],
   "source": [
    "review_score_1 = \"When you first start watching this movie, you can tell its going to be a painful ride. the audio is poor...the attacks by the \\\"girls\\\" are like going back in time, to watching the old rocky films, were blows never touched. the editing is poor with it aswell, example the actress in is the bath when her husband comes home, clearly you see her wearing a flesh coloured bra in the bath. no hints or spoilers, just wait till you find it in a bargain basket of cheap dvds in a couple of weeks\""
   ]
  },
  {
   "cell_type": "code",
   "execution_count": 53,
   "metadata": {
    "id": "M-hrh4LCP7Ud"
   },
   "outputs": [],
   "source": [
    "new_reviews = [review_score_10, review_score_4, review_score_1]\n",
    "scores = [10, 4, 1]"
   ]
  },
  {
   "cell_type": "code",
   "execution_count": 54,
   "metadata": {
    "colab": {
     "base_uri": "https://localhost:8080/"
    },
    "id": "OvVuzgTwP7Ud",
    "outputId": "940bd62f-69e8-49de-c71f-c4de5628a946"
   },
   "outputs": [
    {
     "name": "stderr",
     "output_type": "stream",
     "text": [
      "/usr/local/lib/python3.7/dist-packages/keras/layers/legacy_rnn/rnn_cell_impl.py:756: UserWarning: `layer.add_variable` is deprecated and will be removed in a future version. Please use `layer.add_weight` method instead.\n",
      "  shape=[input_depth + h_depth, 4 * self._num_units])\n",
      "/usr/local/lib/python3.7/dist-packages/keras/layers/legacy_rnn/rnn_cell_impl.py:760: UserWarning: `layer.add_variable` is deprecated and will be removed in a future version. Please use `layer.add_weight` method instead.\n",
      "  initializer=tf.compat.v1.zeros_initializer(dtype=self.dtype))\n"
     ]
    },
    {
     "name": "stdout",
     "output_type": "stream",
     "text": [
      "The sentiment for the review with score 10 was found to be negative\n",
      "The sentiment for the review with score 4 was found to be negative\n",
      "The sentiment for the review with score 1 was found to be negative\n"
     ]
    }
   ],
   "source": [
    "with tf.device(device):\n",
    "    for original_review, score in zip(new_reviews, scores):\n",
    "        indexed_review, seq_length = process_new_review(original_review)\n",
    "        indexed_review = tf.reshape(tf.constant(indexed_review), (1,-1))\n",
    "        seq_length = tf.reshape(tf.constant(seq_length), (1,))\n",
    "        logits = lstm_model.predict(indexed_review, seq_length, False)\n",
    "        pred = tf.argmax(logits, axis=1).numpy()[0]\n",
    "        print('The sentiment for the review with score %d was found to be %s'\n",
    "              %(score, sent_dict[pred]))"
   ]
  }
 ],
 "metadata": {
  "accelerator": "GPU",
  "colab": {
   "name": "IST597_SP22_RNN.ipynb",
   "provenance": []
  },
  "kernelspec": {
   "display_name": "Python 3 (ipykernel)",
   "language": "python",
   "name": "python3"
  },
  "language_info": {
   "codemirror_mode": {
    "name": "ipython",
    "version": 3
   },
   "file_extension": ".py",
   "mimetype": "text/x-python",
   "name": "python",
   "nbconvert_exporter": "python",
   "pygments_lexer": "ipython3",
   "version": "3.9.11"
  }
 },
 "nbformat": 4,
 "nbformat_minor": 1
}